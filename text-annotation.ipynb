{
 "cells": [
  {
   "cell_type": "code",
   "execution_count": 1,
   "metadata": {
    "collapsed": false,
    "scrolled": false
   },
   "outputs": [
    {
     "name": "stdout",
     "output_type": "stream",
     "text": [
      "<text>\n",
      "<div type=\"opener\" resp=\"WR\">\n",
      "<p>Illustrissime Domine legate,</p>\n",
      "</div>\n",
      "<p>Commoratus est mecum aliquo tempore filius vester <persName key=\"groot.cornelius.1613-1661\" resp=\"#ed\">Cornelius</persName> et quantumvis nil mihi magis fuerit semper in votis quam ipsum loco aliquo convenienti accommodandi, tamen variis de causis hoc meum destinatum inpeditum est.</p>\n",
      "<p>Res nostrae per Germaniam non parum immutatae et contractae sunt. Et hic in Suecia nullum licet studiose quaesitum locum, qui huic eius aetati aptus esset, invenire potui.</p>\n",
      "<p>Ut eapropter non improbaverim Illustritatis Vestrae consilium ipsum ad se revocandi, cum et ei illis in partibus uberior se materies offerre possit ingenii juvenilis excolendi et nullibi commodius quam a vobis regi et informari queat.</p>\n",
      "<p>Bona igitur gratia ipsum dimisi, non tamen sine aliquo doloris sensu, quod in praesens et meae voluntati et affectui in Illustritatem Vestram omnesque illi annexos flagrantissimo satisfacere nequiverim; velim sibi persuadeat nil me unquam omissurum, quod facere queat ad honoranda ejusdem merita et domus suae stabilimentum ejusque contestandi animum, quod oportunitas nunc defuerit, distulisse, non omisisse.</p>\n",
      "<p>De caetero optime valeat et me sibi addictissimum putet.</p>\n",
      "<div type=\"closer\" resp=\"WR\">\n",
      "<p>Dabantur <placeName key=\"se:stockholm.swe\" resp=\"auto\">Stocholmiae</placeName>, die III/XIII Julij Anni MDCXXXVII.</p>\n",
      "<p>Illustritatis Vestrae amicissimus\n",
      "<lb/><persName key=\"oxenstierna.axel.1583-1654\" resp=\"auto\">Axelius Oxenstierna</persName> mp.</p>\n",
      "</div>\n",
      "</text>\n"
     ]
    }
   ],
   "source": [
    "from alexandria.notebook.alexandria_proxy import AlexandriaProxy\n",
    "\n",
    "alexandria = AlexandriaProxy(\"http://localhost:2015/\",\"admin\")\n",
    "text = alexandria.add_text('data/grotius-3160-v2.xml')\n",
    "print(text.get_xml())"
   ]
  },
  {
   "cell_type": "code",
   "execution_count": 2,
   "metadata": {
    "collapsed": false
   },
   "outputs": [
    {
     "name": "stdout",
     "output_type": "stream",
     "text": [
      "[Annotator::ckcc (main ckcc annotator), Annotator::other (other annotator)]\n"
     ]
    }
   ],
   "source": [
    "from alexandria.client.annotator import Annotator\n",
    "a1 = Annotator('ckcc', 'main ckcc annotator')\n",
    "text.set_annotator(a1)\n",
    "a2 = Annotator('other', 'other annotator')\n",
    "text.set_annotator(a2)\n",
    "print(text.get_annotators())"
   ]
  },
  {
   "cell_type": "code",
   "execution_count": 3,
   "metadata": {
    "collapsed": false,
    "scrolled": true
   },
   "outputs": [
    {
     "name": "stdout",
     "output_type": "stream",
     "text": [
      "<text>\n",
      "<div type=\"opener\" resp=\"WR\" xml:id=\"div-1\">\n",
      "<p xml:id=\"p-1\">Illustrissime Domine legate,</p>\n",
      "</div>\n",
      "<p xml:id=\"p-2\">Commoratus est mecum aliquo tempore filius vester <persName key=\"groot.cornelius.1613-1661\" resp=\"#ed\">Cornelius</persName> et quantumvis nil mihi magis fuerit semper in votis quam ipsum loco aliquo convenienti accommodandi, tamen variis de causis hoc meum destinatum inpeditum est.</p>\n",
      "<p xml:id=\"p-3\">Res nostrae per Germaniam non parum immutatae et contractae sunt. Et hic in Suecia nullum licet studiose quaesitum locum, qui huic eius aetati aptus esset, invenire potui.</p>\n",
      "<p xml:id=\"p-4\">Ut eapropter non improbaverim Illustritatis Vestrae consilium ipsum ad se revocandi, cum et ei illis in partibus uberior se materies offerre possit ingenii juvenilis excolendi et nullibi commodius quam a vobis regi et informari queat.</p>\n",
      "<p xml:id=\"p-5\">Bona igitur gratia ipsum dimisi, non tamen sine aliquo doloris sensu, quod in praesens et meae voluntati et affectui in Illustritatem Vestram omnesque illi annexos flagrantissimo satisfacere nequiverim; velim sibi persuadeat nil me unquam omissurum, quod facere queat ad honoranda ejusdem merita et domus suae stabilimentum ejusque contestandi animum, quod oportunitas nunc defuerit, distulisse, non omisisse.</p>\n",
      "<p xml:id=\"p-6\">De caetero optime valeat et me sibi addictissimum putet.</p>\n",
      "<div type=\"closer\" resp=\"WR\" xml:id=\"div-2\">\n",
      "<p xml:id=\"p-7\">Dabantur <placeName key=\"se:stockholm.swe\" resp=\"auto\">Stocholmiae</placeName>, die III/XIII Julij Anni MDCXXXVII.</p>\n",
      "<p xml:id=\"p-8\">Illustritatis Vestrae amicissimus\n",
      "<lb/><persName key=\"oxenstierna.axel.1583-1654\" resp=\"auto\">Axelius Oxenstierna</persName> mp.</p>\n",
      "</div>\n",
      "</text>\n"
     ]
    }
   ],
   "source": [
    "text.add_unique_ids([\"div\",\"p\"])\n",
    "print(text.get_xml())"
   ]
  },
  {
   "cell_type": "code",
   "execution_count": 4,
   "metadata": {
    "collapsed": false
   },
   "outputs": [
    {
     "name": "stdout",
     "output_type": "stream",
     "text": [
      "<text>\n",
      "<div type=\"opener\" resp=\"WR\" xml:id=\"div-1\">\n",
      "<p xml:id=\"p-1\"><hi resp=\"#ckcc\">Illustrissime</hi> Domine legate,</p>\n",
      "</div>\n",
      "<p xml:id=\"p-2\">Commoratus est mecum aliquo tempore filius vester <persName key=\"groot.cornelius.1613-1661\" resp=\"#ed\">Cornelius</persName> et quantumvis nil mihi magis fuerit semper in votis quam ipsum loco aliquo convenienti accommodandi, tamen variis de causis hoc meum destinatum inpeditum est.</p>\n",
      "<p xml:id=\"p-3\">Res nostrae per Germaniam non parum immutatae et contractae sunt. Et hic in Suecia nullum licet studiose quaesitum locum, qui huic eius aetati aptus esset, invenire potui.</p>\n",
      "<p xml:id=\"p-4\">Ut eapropter non improbaverim Illustritatis Vestrae consilium ipsum ad se revocandi, cum et ei illis in partibus uberior se materies offerre possit ingenii juvenilis excolendi et nullibi commodius quam a vobis regi et informari queat.</p>\n",
      "<p xml:id=\"p-5\">Bona igitur gratia ipsum dimisi, non tamen sine aliquo doloris sensu, quod in praesens et meae voluntati et affectui in Illustritatem Vestram omnesque illi annexos flagrantissimo satisfacere nequiverim; velim sibi persuadeat nil me unquam omissurum, quod facere queat ad honoranda ejusdem merita et domus suae stabilimentum ejusque contestandi animum, quod oportunitas nunc defuerit, distulisse, non omisisse.</p>\n",
      "<p xml:id=\"p-6\">De caetero optime valeat et me sibi addictissimum putet.</p>\n",
      "<div type=\"closer\" resp=\"WR\" xml:id=\"div-2\">\n",
      "<p xml:id=\"p-7\">Dabantur <placeName key=\"se:stockholm.swe\" resp=\"auto\">Stocholmiae</placeName>, die III/XIII Julij Anni MDCXXXVII.</p>\n",
      "<p xml:id=\"p-8\">Illustritatis Vestrae amicissimus\n",
      "<lb/><persName key=\"oxenstierna.axel.1583-1654\" resp=\"auto\">Axelius Oxenstierna</persName> mp.</p>\n",
      "</div>\n",
      "</text>\n"
     ]
    }
   ],
   "source": [
    "from alexandria.client.text_annotation import TextAnnotation\n",
    "from alexandria.client.position import Position\n",
    "\n",
    "pos = Position('p-1',1,13)\n",
    "ta = TextAnnotation('hi','ckcc', pos)\n",
    "text.add_text_annotation(ta)\n",
    "print(text.get_xml())"
   ]
  }
 ],
 "metadata": {
  "anaconda-cloud": {},
  "kernelspec": {
   "display_name": "Python [Root]",
   "language": "python",
   "name": "Python [Root]"
  },
  "language_info": {
   "codemirror_mode": {
    "name": "ipython",
    "version": 3
   },
   "file_extension": ".py",
   "mimetype": "text/x-python",
   "name": "python",
   "nbconvert_exporter": "python",
   "pygments_lexer": "ipython3",
   "version": "3.5.2"
  }
 },
 "nbformat": 4,
 "nbformat_minor": 0
}
