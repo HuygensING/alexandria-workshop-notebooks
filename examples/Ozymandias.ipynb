{
 "cells": [
  {
   "cell_type": "code",
   "execution_count": 1,
   "metadata": {},
   "outputs": [],
   "source": [
    "from alexandria.notebook.alexandria_markup_proxy import AlexandriaMarkupProxy\n",
    "\n",
    "alexandria = AlexandriaMarkupProxy(server_url=\"http://192.168.99.100:9002/\",\n",
    "                                   latex_server_url=\"http://192.168.99.100:9000/\")\n",
    "\n",
    "oz = alexandria.add_document_from_lmnl_text('''[sonneteer [id}ozymandias{id]}\n",
    "[meta [author}Percy Bysshe Shelley{author] [title}Ozymandias{title]]\n",
    "[sonnet}[s}[octave}[quatrain}\n",
    "[l}[voice [who}Narrator{]}[phr}I met a traveller from an antique land,{phr]{l]\n",
    "[l}[phr}Who said —{phr][voice [who}traveller{][discourse}direct{]}[phr}“Two vast and trunkless legs of stone{l]\n",
    "[l}Stand in the desart.[caesura}...{caesura]{phr][phr}Near them,{phr] [phr}on the sand,{phr]{l]\n",
    "[l}[phr}Half sunk a shattered visage lies,{phr] [voice [who}sculptor{][discourse}implicit{]}[phr}whose frown,{phr]{l]{quatrain]\n",
    "[quatrain}[l}[phr}And wrinkled lip,{phr] [phr}and sneer of cold command,{phr]{l]\n",
    "[phr}[l}Tell that its sculptor well those passions read{l]\n",
    "[l}Which yet survive,{phr] [phr}stamped on these lifeless things,{phr]{l]\n",
    "[l}[voice [who}Ozymandias{][discourse}implicit{]}[phr}The hand that mocked them,{phr] [phr}and the heart that fed;{phr]{voice]{voice]{l]{quatrain]{octave]\n",
    "[sestet}[tercet}[l}[phr}And on the pedestal,{phr] [phr}these words appear:{phr]{l]\n",
    "[l}[voice [who}Ozymandias{][discourse}direct{]}[phr}My name is Ozymandias,{phr] [phr}King of Kings,{phr]{l]\n",
    "[l}[phr}Look on my Works,{phr] [phr}ye Mighty,{phr] [phr}and despair!{phr]{l]{voice]{tercet]{s]\n",
    "[tercet}[l}[s}[phr}Nothing beside remains.{phr]{s] [s}[phr}Round the decay{l]\n",
    "[l}Of that colossal Wreck,{phr] [phr}boundless and bare{l]\n",
    "[l}The lone and level sands stretch far away.{phr]”{l]{s]{tercet]{sestet]{voice]{voice]{sonnet]\n",
    "{sonneteer [encoding [resp}ebeshero{][resp}wap{]]]''')\n"
   ]
  },
  {
   "cell_type": "code",
   "execution_count": 2,
   "metadata": {},
   "outputs": [
    {
     "data": {
      "text/plain": [
       "{'values': [['Percy Bysshe Shelley']]}"
      ]
     },
     "execution_count": 2,
     "metadata": {},
     "output_type": "execute_result"
    }
   ],
   "source": [
    "oz.query(\"select annotationText('author') from markup where name='meta'\")"
   ]
  },
  {
   "cell_type": "code",
   "execution_count": 3,
   "metadata": {},
   "outputs": [
    {
     "data": {
      "text/plain": [
       "[['ebeshero', 'wap']]"
      ]
     },
     "execution_count": 3,
     "metadata": {},
     "output_type": "execute_result"
    }
   ],
   "source": [
    "oz.query(\"select annotationText('encoding:resp') from markup where name='sonneteer'\")['values']"
   ]
  },
  {
   "cell_type": "code",
   "execution_count": 4,
   "metadata": {},
   "outputs": [
    {
     "data": {
      "text/plain": [
       "['I met a traveller from an antique land,',\n",
       " 'Who said —',\n",
       " '“Two vast and trunkless legs of stone\\nStand in the desart....',\n",
       " 'Near them,',\n",
       " 'on the sand,',\n",
       " 'Half sunk a shattered visage lies,',\n",
       " 'whose frown,',\n",
       " 'And wrinkled lip,',\n",
       " 'and sneer of cold command,',\n",
       " 'Tell that its sculptor well those passions read\\nWhich yet survive,',\n",
       " 'stamped on these lifeless things,',\n",
       " 'The hand that mocked them,',\n",
       " 'and the heart that fed;',\n",
       " 'And on the pedestal,',\n",
       " 'these words appear:',\n",
       " 'My name is Ozymandias,',\n",
       " 'King of Kings,',\n",
       " 'Look on my Works,',\n",
       " 'ye Mighty,',\n",
       " 'and despair!',\n",
       " 'Nothing beside remains.',\n",
       " 'Round the decay\\nOf that colossal Wreck,',\n",
       " 'boundless and bare\\nThe lone and level sands stretch far away.']"
      ]
     },
     "execution_count": 4,
     "metadata": {},
     "output_type": "execute_result"
    }
   ],
   "source": [
    "oz.query(\"select text from markup where name='phr'\")['values']"
   ]
  },
  {
   "cell_type": "code",
   "execution_count": 5,
   "metadata": {},
   "outputs": [
    {
     "data": {
      "text/plain": [
       "['I met a traveller from an antique land,',\n",
       " 'Who said —“Two vast and trunkless legs of stone',\n",
       " 'Stand in the desart....Near them, on the sand,',\n",
       " 'Half sunk a shattered visage lies, whose frown,',\n",
       " 'And wrinkled lip, and sneer of cold command,',\n",
       " 'Tell that its sculptor well those passions read',\n",
       " 'Which yet survive, stamped on these lifeless things,',\n",
       " 'The hand that mocked them, and the heart that fed;',\n",
       " 'And on the pedestal, these words appear:',\n",
       " 'My name is Ozymandias, King of Kings,',\n",
       " 'Look on my Works, ye Mighty, and despair!',\n",
       " 'Nothing beside remains. Round the decay',\n",
       " 'Of that colossal Wreck, boundless and bare',\n",
       " 'The lone and level sands stretch far away.”']"
      ]
     },
     "execution_count": 5,
     "metadata": {},
     "output_type": "execute_result"
    }
   ],
   "source": [
    "oz.query(\"select text from markup where name='l'\")['values']"
   ]
  },
  {
   "cell_type": "code",
   "execution_count": 6,
   "metadata": {},
   "outputs": [
    {
     "data": {
      "text/plain": [
       "[['Narrator'], ['traveller'], ['sculptor'], ['Ozymandias'], ['Ozymandias']]"
      ]
     },
     "execution_count": 6,
     "metadata": {},
     "output_type": "execute_result"
    }
   ],
   "source": [
    "oz.query(\"select annotationText('who') from markup where name='voice'\")['values']"
   ]
  }
 ],
 "metadata": {
  "kernelspec": {
   "display_name": "Python 3",
   "language": "python",
   "name": "python3"
  },
  "language_info": {
   "codemirror_mode": {
    "name": "ipython",
    "version": 3
   },
   "file_extension": ".py",
   "mimetype": "text/x-python",
   "name": "python",
   "nbconvert_exporter": "python",
   "pygments_lexer": "ipython3",
   "version": "3.5.2"
  }
 },
 "nbformat": 4,
 "nbformat_minor": 2
}
